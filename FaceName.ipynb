{
 "cells": [
  {
   "cell_type": "code",
   "execution_count": null,
   "metadata": {
    "colab": {
     "base_uri": "https://localhost:8080/",
     "height": 629
    },
    "colab_type": "code",
    "id": "M9T9c_xHXCWY",
    "outputId": "0beca0b8-5cba-44bd-f735-c1603d42c39d"
   },
   "outputs": [],
   "source": [
    "%pip install keras_vggface\n",
    "%pip install mtcnn\n",
    "%pip install xgboost\n",
    "%pip install pillow\n",
    "%pip install pandas\n",
    "%pip install tqdm\n",
    "%pip install swifter"
   ]
  },
  {
   "cell_type": "code",
   "execution_count": null,
   "metadata": {
    "colab": {
     "base_uri": "https://localhost:8080/",
     "height": 34
    },
    "colab_type": "code",
    "id": "uYBmi3aLTtKK",
    "outputId": "d196e8e7-734c-4cb6-f00c-22a622b483db"
   },
   "outputs": [],
   "source": [
    "import tensorflow as tf\n",
    "from keras_vggface.vggface import VGGFace\n",
    "from keras_vggface.utils import preprocess_input\n",
    "from matplotlib import pyplot\n",
    "from mtcnn.mtcnn import MTCNN\n",
    "from PIL import Image\n",
    "import numpy as np\n",
    "import glob\n",
    "import pandas as pd\n",
    "from tqdm import tqdm \n",
    "import pickle\n",
    "import swifter\n",
    "import ast\n",
    "\n",
    "from sklearn.model_selection import cross_val_score\n",
    "from sklearn.metrics import accuracy_score, make_scorer\n",
    "import xgboost"
   ]
  },
  {
   "cell_type": "code",
   "execution_count": null,
   "metadata": {
    "colab": {},
    "colab_type": "code",
    "id": "Rq_WAIbwUvT8"
   },
   "outputs": [],
   "source": [
    "def extract_face_old(filename, required_size=(224,224)):\n",
    "  pixels = pyplot.imread(filename)\n",
    "  #detector = MTCNN()\n",
    "  #results = detector.detect_faces(pixels)\n",
    "  #print(results)\n",
    "  #x1,y1,width,height = results[0]['box']\n",
    "  #x2,y2 = x1+width,y1+height\n",
    "  #face = pixels[y1:y2, x1:x2]\n",
    "  face = pixels\n",
    "  image = Image.fromarray(face, 'RGB')\n",
    "  image = image.resize(required_size)\n",
    "  pyplot.imshow(image)\n",
    "  face_array = np.asarray(image)\n",
    "  return face_array"
   ]
  },
  {
   "cell_type": "code",
   "execution_count": null,
   "metadata": {},
   "outputs": [],
   "source": [
    "def extract_face(filename, required_size=(224,224)):\n",
    "  face = Image.open(filename)\n",
    "  image = face.resize(required_size)\n",
    "  face_array = np.asarray(image)\n",
    "  return face_array"
   ]
  },
  {
   "cell_type": "code",
   "execution_count": null,
   "metadata": {
    "colab": {},
    "colab_type": "code",
    "id": "5esRtx9PV2bI"
   },
   "outputs": [],
   "source": [
    "def get_embeddings(filenames):\n",
    "  face=extract_face(filenames)\n",
    "  face = np.reshape(face,(1,224,224,3))\n",
    "  sample = np.asarray(face, 'float32')\n",
    "  sample = preprocess_input(sample)\n",
    "  yhat = model.predict(sample)\n",
    "  return yhat.flatten()"
   ]
  },
  {
   "cell_type": "code",
   "execution_count": null,
   "metadata": {
    "colab": {
     "base_uri": "https://localhost:8080/",
     "height": 54
    },
    "colab_type": "code",
    "id": "VoIcC45YwKr6",
    "outputId": "4f87050d-b617-44e1-9126-f33e1609a4f9",
    "scrolled": false
   },
   "outputs": [],
   "source": [
    "f = open(\"./Names100Dataset/names100.txt\", \"r\")\n",
    "names = []\n",
    "for line in f:\n",
    "  name = line.split(\"\\n\")[0]\n",
    "  names.append(name)\n",
    "print(names)\n",
    "name_to_int = dict((name, number) for number, name in enumerate(names))"
   ]
  },
  {
   "cell_type": "code",
   "execution_count": null,
   "metadata": {},
   "outputs": [],
   "source": [
    "def save_obj(obj, name ):\n",
    "    with open(name + '.pkl', 'wb') as f:\n",
    "        pickle.dump(obj, f, pickle.HIGHEST_PROTOCOL)\n",
    "def load_obj(name ):\n",
    "    with open(name + '.pkl', 'rb') as f:\n",
    "        return pickle.load(f)"
   ]
  },
  {
   "cell_type": "code",
   "execution_count": null,
   "metadata": {},
   "outputs": [],
   "source": [
    "save_obj(name_to_int, 'name_to_int')"
   ]
  },
  {
   "cell_type": "markdown",
   "metadata": {},
   "source": [
    "## Getting embeddings to prepare for classification"
   ]
  },
  {
   "cell_type": "code",
   "execution_count": null,
   "metadata": {
    "colab": {
     "base_uri": "https://localhost:8080/",
     "height": 425
    },
    "colab_type": "code",
    "id": "6WjLyrmDhe8T",
    "outputId": "0884e5f4-d0ad-4abd-e323-0d2eff681761",
    "scrolled": true
   },
   "outputs": [],
   "source": [
    "model = VGGFace(model='resnet50', include_top=False, input_shape=(224,224,3), pooling='avg')\n",
    "df = pd.DataFrame(columns=['Name', 'File', 'Class', \"Embedding\"])\n",
    "names = []\n",
    "files = []\n",
    "classes = []\n",
    "embeddings = []\n",
    "\n",
    "full_dir = glob.glob(\"./Names100Dataset/Names100_Images/*.png\")\n",
    "\n",
    "for i in tqdm(range(len(full_dir))):\n",
    "    filepath = full_dir[i]\n",
    "    file = filepath.split(\"/\")[-1]\n",
    "    files.append(file)\n",
    "    items = file.split('_')\n",
    "    name = items[0]\n",
    "    names.append(name)\n",
    "    classnb = name_to_int[name]\n",
    "    classes.append(classnb)\n",
    "    embedding = get_embeddings(filepath)\n",
    "    embeddings.append(embedding)\n",
    "\n",
    "df[\"Name\"] = names\n",
    "df[\"File\"] = files\n",
    "df[\"Class\"] = classes\n",
    "df[\"Embedding\"] = embeddings\n",
    "df"
   ]
  },
  {
   "cell_type": "code",
   "execution_count": null,
   "metadata": {},
   "outputs": [],
   "source": [
    "df.to_csv('training_embeddings.csv', mode='a', index=False)"
   ]
  },
  {
   "cell_type": "code",
   "execution_count": null,
   "metadata": {},
   "outputs": [],
   "source": [
    "save_obj(np.asarray(embeddings), 'train_X')\n",
    "save_obj(np.asarray(classes), 'train_y')"
   ]
  },
  {
   "cell_type": "code",
   "execution_count": null,
   "metadata": {},
   "outputs": [],
   "source": [
    "read_df = pd.read_csv('training_embeddings.csv')"
   ]
  },
  {
   "cell_type": "code",
   "execution_count": null,
   "metadata": {},
   "outputs": [],
   "source": [
    "train_X = load_obj(\"train_X\")\n",
    "train_y = np.ravel(load_obj(\"train_y\"))\n",
    "name_to_int = load_obj('name_to_int')"
   ]
  },
  {
   "cell_type": "code",
   "execution_count": null,
   "metadata": {
    "scrolled": true
   },
   "outputs": [],
   "source": [
    "model = xgboost.XGBClassifier(objective=\"multi:softmax\",num_class=100, learning_rate=0.01, n_estimators=100, max_depth=3,\n",
    "                              subsample=0.8, colsample_bytree=1, gamma=1, n_jobs=-1, verbosity=1)\n",
    "score_mi = cross_val_score(model, train_X, train_y, cv=3, scoring=make_scorer(accuracy_score))\n",
    "save_obj(model, \"trained_XGBoost\")\n",
    "print(\"Mean: {}, Std Dev: {}\".format(score_mi.mean(), np.std(score_mi)))"
   ]
  },
  {
   "cell_type": "code",
   "execution_count": null,
   "metadata": {},
   "outputs": [],
   "source": [
    "save_obj(model, \"trained_XGBoost\")"
   ]
  }
 ],
 "metadata": {
  "colab": {
   "name": "FaceName.ipynb",
   "provenance": []
  },
  "kernelspec": {
   "display_name": "Python 3",
   "language": "python",
   "name": "python3"
  },
  "language_info": {
   "codemirror_mode": {
    "name": "ipython",
    "version": 3
   },
   "file_extension": ".py",
   "mimetype": "text/x-python",
   "name": "python",
   "nbconvert_exporter": "python",
   "pygments_lexer": "ipython3",
   "version": "3.7.7"
  }
 },
 "nbformat": 4,
 "nbformat_minor": 1
}
